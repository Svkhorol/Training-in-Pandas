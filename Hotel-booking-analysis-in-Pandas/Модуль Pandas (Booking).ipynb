{
 "cells": [
  {
   "cell_type": "markdown",
   "id": "d7f0ff77-1d36-44a5-baae-b84c70998ee5",
   "metadata": {
    "tags": []
   },
   "source": [
    "## Анализ данных о бронировании отелей (учебное задание в Pandas)\n",
    "В настоящей работе анализируются данные о количестве бронирований отелей за двухлетний период (с июля 2015 г. по август 2017 г.).  \n",
    "Имеющиеся данные отражают информацию об успешных и отмененных заказах, длительности резервирования и других параметрах бронирования для отелей двух различных типов (городские и курортные отели) среди более, чем 100 тыс. бронирований из разных стран.\n",
    "#### Расшифровка названий переменных датасета:\n",
    "\n",
    "<font size = 2> Hotel – тип отеля (City Hotel или Resort Hotel)  \n",
    "Is canceled – бронирование было отменено (1) или нет (0); неотменённое считается успешным  \n",
    "Lead time – количество дней, прошедших между датой бронирования и датой прибытия  \n",
    "Arrival full date – полная дата прибытия  \n",
    "Arrival date year – год прибытия  \n",
    "Arrival date month – месяц прибытия  \n",
    "Arrival date week number – номер недели прибытия  \n",
    "Arrival date day of month – день прибытия  \n",
    "Stays in weekend nights – количество выходных (суббота или воскресенье), которые гость забронировал для проживания в отеле  \n",
    "Stays in week nights – количество дней (с понедельника по пятницу), которые гость забронировал для проживания в отеле  \n",
    "Stays total nights – общее число забронированных ночей (сумма двух предыдущих колонок)  \n",
    "Adults – число взрослых  \n",
    "Children – число детей  \n",
    "Babies – число младенцев  \n",
    "Meal – выбранный тип питания  \n",
    "Country – страна происхождения клиента  \n",
    "Reserved room type – тип зарезервированного номера  \n",
    "Assigned room type – тип полученного номера (может отличаться от забронированного)  \n",
    "Customer type – тип бронирования  \n",
    "Reservation status – значение последнего статуса брони: Canceled – было отменено клиентом; Check-Out – клиент зарегистрировался, но уже покинул отель; No-Show – клиент не зарегистрировался и сообщил администрации отеля причину  \n",
    "Reservation status date – дата обновления статуса"
   ]
  },
  {
   "cell_type": "markdown",
   "id": "e19d01b4-c569-4a2d-86a3-210d7347dd9d",
   "metadata": {},
   "source": [
    "  "
   ]
  },
  {
   "cell_type": "markdown",
   "id": "b56b6cb9-90dd-4c26-937c-ef70bd2f1d79",
   "metadata": {},
   "source": [
    "#### Загрузка и подготовка данных"
   ]
  },
  {
   "cell_type": "code",
   "execution_count": 1,
   "id": "c1beb248-1518-481a-9117-bfd2352e7d7a",
   "metadata": {},
   "outputs": [
    {
     "data": {
      "text/html": [
       "<div>\n",
       "<style scoped>\n",
       "    .dataframe tbody tr th:only-of-type {\n",
       "        vertical-align: middle;\n",
       "    }\n",
       "\n",
       "    .dataframe tbody tr th {\n",
       "        vertical-align: top;\n",
       "    }\n",
       "\n",
       "    .dataframe thead th {\n",
       "        text-align: right;\n",
       "    }\n",
       "</style>\n",
       "<table border=\"1\" class=\"dataframe\">\n",
       "  <thead>\n",
       "    <tr style=\"text-align: right;\">\n",
       "      <th></th>\n",
       "      <th>Hotel</th>\n",
       "      <th>Is Canceled</th>\n",
       "      <th>Lead Time</th>\n",
       "      <th>arrival full date</th>\n",
       "      <th>Arrival Date Year</th>\n",
       "      <th>Arrival Date Month</th>\n",
       "      <th>Arrival Date Week Number</th>\n",
       "      <th>Arrival Date Day of Month</th>\n",
       "      <th>Stays in Weekend nights</th>\n",
       "      <th>Stays in week nights</th>\n",
       "      <th>...</th>\n",
       "      <th>Adults</th>\n",
       "      <th>Children</th>\n",
       "      <th>Babies</th>\n",
       "      <th>Meal</th>\n",
       "      <th>Country</th>\n",
       "      <th>Reserved Room Type</th>\n",
       "      <th>Assigned room type</th>\n",
       "      <th>customer type</th>\n",
       "      <th>Reservation Status</th>\n",
       "      <th>Reservation status_date</th>\n",
       "    </tr>\n",
       "  </thead>\n",
       "  <tbody>\n",
       "    <tr>\n",
       "      <th>0</th>\n",
       "      <td>Resort Hotel</td>\n",
       "      <td>0</td>\n",
       "      <td>342</td>\n",
       "      <td>2015-07-01</td>\n",
       "      <td>2015</td>\n",
       "      <td>July</td>\n",
       "      <td>27</td>\n",
       "      <td>1</td>\n",
       "      <td>0</td>\n",
       "      <td>0</td>\n",
       "      <td>...</td>\n",
       "      <td>2</td>\n",
       "      <td>0.0</td>\n",
       "      <td>0</td>\n",
       "      <td>BB</td>\n",
       "      <td>PRT</td>\n",
       "      <td>C</td>\n",
       "      <td>C</td>\n",
       "      <td>Transient</td>\n",
       "      <td>Check-Out</td>\n",
       "      <td>2015-07-01</td>\n",
       "    </tr>\n",
       "    <tr>\n",
       "      <th>1</th>\n",
       "      <td>Resort Hotel</td>\n",
       "      <td>0</td>\n",
       "      <td>737</td>\n",
       "      <td>2015-07-01</td>\n",
       "      <td>2015</td>\n",
       "      <td>July</td>\n",
       "      <td>27</td>\n",
       "      <td>1</td>\n",
       "      <td>0</td>\n",
       "      <td>0</td>\n",
       "      <td>...</td>\n",
       "      <td>2</td>\n",
       "      <td>0.0</td>\n",
       "      <td>0</td>\n",
       "      <td>BB</td>\n",
       "      <td>PRT</td>\n",
       "      <td>C</td>\n",
       "      <td>C</td>\n",
       "      <td>Transient</td>\n",
       "      <td>Check-Out</td>\n",
       "      <td>2015-07-01</td>\n",
       "    </tr>\n",
       "    <tr>\n",
       "      <th>2</th>\n",
       "      <td>Resort Hotel</td>\n",
       "      <td>0</td>\n",
       "      <td>7</td>\n",
       "      <td>2015-07-01</td>\n",
       "      <td>2015</td>\n",
       "      <td>July</td>\n",
       "      <td>27</td>\n",
       "      <td>1</td>\n",
       "      <td>0</td>\n",
       "      <td>1</td>\n",
       "      <td>...</td>\n",
       "      <td>1</td>\n",
       "      <td>0.0</td>\n",
       "      <td>0</td>\n",
       "      <td>BB</td>\n",
       "      <td>GBR</td>\n",
       "      <td>A</td>\n",
       "      <td>C</td>\n",
       "      <td>Transient</td>\n",
       "      <td>Check-Out</td>\n",
       "      <td>2015-07-02</td>\n",
       "    </tr>\n",
       "    <tr>\n",
       "      <th>3</th>\n",
       "      <td>Resort Hotel</td>\n",
       "      <td>0</td>\n",
       "      <td>13</td>\n",
       "      <td>2015-07-01</td>\n",
       "      <td>2015</td>\n",
       "      <td>July</td>\n",
       "      <td>27</td>\n",
       "      <td>1</td>\n",
       "      <td>0</td>\n",
       "      <td>1</td>\n",
       "      <td>...</td>\n",
       "      <td>1</td>\n",
       "      <td>0.0</td>\n",
       "      <td>0</td>\n",
       "      <td>BB</td>\n",
       "      <td>GBR</td>\n",
       "      <td>A</td>\n",
       "      <td>A</td>\n",
       "      <td>Transient</td>\n",
       "      <td>Check-Out</td>\n",
       "      <td>2015-07-02</td>\n",
       "    </tr>\n",
       "    <tr>\n",
       "      <th>4</th>\n",
       "      <td>Resort Hotel</td>\n",
       "      <td>0</td>\n",
       "      <td>14</td>\n",
       "      <td>2015-07-01</td>\n",
       "      <td>2015</td>\n",
       "      <td>July</td>\n",
       "      <td>27</td>\n",
       "      <td>1</td>\n",
       "      <td>0</td>\n",
       "      <td>2</td>\n",
       "      <td>...</td>\n",
       "      <td>2</td>\n",
       "      <td>0.0</td>\n",
       "      <td>0</td>\n",
       "      <td>BB</td>\n",
       "      <td>GBR</td>\n",
       "      <td>A</td>\n",
       "      <td>A</td>\n",
       "      <td>Transient</td>\n",
       "      <td>Check-Out</td>\n",
       "      <td>2015-07-03</td>\n",
       "    </tr>\n",
       "    <tr>\n",
       "      <th>5</th>\n",
       "      <td>Resort Hotel</td>\n",
       "      <td>0</td>\n",
       "      <td>14</td>\n",
       "      <td>2015-07-01</td>\n",
       "      <td>2015</td>\n",
       "      <td>July</td>\n",
       "      <td>27</td>\n",
       "      <td>1</td>\n",
       "      <td>0</td>\n",
       "      <td>2</td>\n",
       "      <td>...</td>\n",
       "      <td>2</td>\n",
       "      <td>0.0</td>\n",
       "      <td>0</td>\n",
       "      <td>BB</td>\n",
       "      <td>GBR</td>\n",
       "      <td>A</td>\n",
       "      <td>A</td>\n",
       "      <td>Transient</td>\n",
       "      <td>Check-Out</td>\n",
       "      <td>2015-07-03</td>\n",
       "    </tr>\n",
       "    <tr>\n",
       "      <th>6</th>\n",
       "      <td>Resort Hotel</td>\n",
       "      <td>0</td>\n",
       "      <td>0</td>\n",
       "      <td>2015-07-01</td>\n",
       "      <td>2015</td>\n",
       "      <td>July</td>\n",
       "      <td>27</td>\n",
       "      <td>1</td>\n",
       "      <td>0</td>\n",
       "      <td>2</td>\n",
       "      <td>...</td>\n",
       "      <td>2</td>\n",
       "      <td>0.0</td>\n",
       "      <td>0</td>\n",
       "      <td>BB</td>\n",
       "      <td>PRT</td>\n",
       "      <td>C</td>\n",
       "      <td>C</td>\n",
       "      <td>Transient</td>\n",
       "      <td>Check-Out</td>\n",
       "      <td>2015-07-03</td>\n",
       "    </tr>\n",
       "  </tbody>\n",
       "</table>\n",
       "<p>7 rows × 21 columns</p>\n",
       "</div>"
      ],
      "text/plain": [
       "          Hotel  Is Canceled  Lead Time arrival full date  Arrival Date Year  \\\n",
       "0  Resort Hotel            0        342        2015-07-01               2015   \n",
       "1  Resort Hotel            0        737        2015-07-01               2015   \n",
       "2  Resort Hotel            0          7        2015-07-01               2015   \n",
       "3  Resort Hotel            0         13        2015-07-01               2015   \n",
       "4  Resort Hotel            0         14        2015-07-01               2015   \n",
       "5  Resort Hotel            0         14        2015-07-01               2015   \n",
       "6  Resort Hotel            0          0        2015-07-01               2015   \n",
       "\n",
       "  Arrival Date Month  Arrival Date Week Number  Arrival Date Day of Month  \\\n",
       "0               July                        27                          1   \n",
       "1               July                        27                          1   \n",
       "2               July                        27                          1   \n",
       "3               July                        27                          1   \n",
       "4               July                        27                          1   \n",
       "5               July                        27                          1   \n",
       "6               July                        27                          1   \n",
       "\n",
       "   Stays in Weekend nights  Stays in week nights  ...  Adults  Children  \\\n",
       "0                        0                     0  ...       2       0.0   \n",
       "1                        0                     0  ...       2       0.0   \n",
       "2                        0                     1  ...       1       0.0   \n",
       "3                        0                     1  ...       1       0.0   \n",
       "4                        0                     2  ...       2       0.0   \n",
       "5                        0                     2  ...       2       0.0   \n",
       "6                        0                     2  ...       2       0.0   \n",
       "\n",
       "   Babies  Meal Country Reserved Room Type Assigned room type customer type  \\\n",
       "0       0    BB     PRT                  C                  C     Transient   \n",
       "1       0    BB     PRT                  C                  C     Transient   \n",
       "2       0    BB     GBR                  A                  C     Transient   \n",
       "3       0    BB     GBR                  A                  A     Transient   \n",
       "4       0    BB     GBR                  A                  A     Transient   \n",
       "5       0    BB     GBR                  A                  A     Transient   \n",
       "6       0    BB     PRT                  C                  C     Transient   \n",
       "\n",
       "  Reservation Status Reservation status_date  \n",
       "0          Check-Out              2015-07-01  \n",
       "1          Check-Out              2015-07-01  \n",
       "2          Check-Out              2015-07-02  \n",
       "3          Check-Out              2015-07-02  \n",
       "4          Check-Out              2015-07-03  \n",
       "5          Check-Out              2015-07-03  \n",
       "6          Check-Out              2015-07-03  \n",
       "\n",
       "[7 rows x 21 columns]"
      ]
     },
     "execution_count": 1,
     "metadata": {},
     "output_type": "execute_result"
    }
   ],
   "source": [
    "import pandas as pd\n",
    "\n",
    "  # Считываем данные\n",
    "\n",
    "bookings = pd.read_csv('bookings.csv', sep=';')\n",
    "bookings_head = bookings.head(7)\n",
    "bookings_head"
   ]
  },
  {
   "cell_type": "code",
   "execution_count": 2,
   "id": "9160f696-a0ea-4fc0-b3e8-6a970de13db7",
   "metadata": {},
   "outputs": [
    {
     "data": {
      "text/plain": [
       "(119390, 21)"
      ]
     },
     "execution_count": 2,
     "metadata": {},
     "output_type": "execute_result"
    }
   ],
   "source": [
    "  # Посмотрим размер данных\n",
    "bookings.shape"
   ]
  },
  {
   "cell_type": "code",
   "execution_count": 3,
   "id": "8c398128-033c-4415-94e5-5b2893f99c12",
   "metadata": {},
   "outputs": [
    {
     "data": {
      "text/plain": [
       "Hotel                         object\n",
       "Is Canceled                    int64\n",
       "Lead Time                      int64\n",
       "arrival full date             object\n",
       "Arrival Date Year              int64\n",
       "Arrival Date Month            object\n",
       "Arrival Date Week Number       int64\n",
       "Arrival Date Day of Month      int64\n",
       "Stays in Weekend nights        int64\n",
       "Stays in week nights           int64\n",
       "stays total nights             int64\n",
       "Adults                         int64\n",
       "Children                     float64\n",
       "Babies                         int64\n",
       "Meal                          object\n",
       "Country                       object\n",
       "Reserved Room Type            object\n",
       "Assigned room type            object\n",
       "customer type                 object\n",
       "Reservation Status            object\n",
       "Reservation status_date       object\n",
       "dtype: object"
      ]
     },
     "execution_count": 3,
     "metadata": {},
     "output_type": "execute_result"
    }
   ],
   "source": [
    "  # Посмотрим тип переменных\n",
    "bookings.dtypes"
   ]
  },
  {
   "cell_type": "code",
   "execution_count": 4,
   "id": "37ee7721-5dbf-4bd9-835a-319745229d91",
   "metadata": {},
   "outputs": [
    {
     "data": {
      "text/plain": [
       "object     10\n",
       "int64      10\n",
       "float64     1\n",
       "dtype: int64"
      ]
     },
     "execution_count": 4,
     "metadata": {},
     "output_type": "execute_result"
    }
   ],
   "source": [
    "bookings.dtypes.value_counts()"
   ]
  },
  {
   "cell_type": "markdown",
   "id": "f8170e2f-bb08-4329-92aa-3f4b720e3094",
   "metadata": {},
   "source": [
    "В исходном датасете названия колонок записаны в неудобном для дальнейшей работы формате. Приведем названия столбцов к нижнему регистру и заменим пробелы на знак нижнего подчёркивания. Например: Is Canceled -> is_canceled"
   ]
  },
  {
   "cell_type": "code",
   "execution_count": 5,
   "id": "405790e0-4036-4fc4-a09b-361724e8d323",
   "metadata": {},
   "outputs": [
    {
     "data": {
      "text/plain": [
       "Index(['hotel', 'is_canceled', 'lead_time', 'arrival_full_date',\n",
       "       'arrival_date_year', 'arrival_date_month', 'arrival_date_week_number',\n",
       "       'arrival_date_day_of_month', 'stays_in_weekend_nights',\n",
       "       'stays_in_week_nights', 'stays_total_nights', 'adults', 'children',\n",
       "       'babies', 'meal', 'country', 'reserved_room_type', 'assigned_room_type',\n",
       "       'customer_type', 'reservation_status', 'reservation_status_date'],\n",
       "      dtype='object')"
      ]
     },
     "execution_count": 5,
     "metadata": {},
     "output_type": "execute_result"
    }
   ],
   "source": [
    "  # Переименуем колонки\n",
    "    \n",
    "# (1) bookings.columns = [x.lower().replace(' ', '_') for x in bookings.columns]    через списочное выражение\n",
    "# (2) bookings.rename(str.lower, axis='columns')  # не работает...\n",
    "# (3)\n",
    "bookings.columns = bookings.columns.str.lower().str.replace(' ', '_')\n",
    "bookings.columns"
   ]
  },
  {
   "cell_type": "markdown",
   "id": "a8254285-58de-4830-98cc-e2f46c087e4f",
   "metadata": {},
   "source": [
    "  "
   ]
  },
  {
   "cell_type": "markdown",
   "id": "32e1b7e0-3fb8-4e86-a714-19d05f1b886d",
   "metadata": {},
   "source": [
    "#### Исследование данных"
   ]
  },
  {
   "cell_type": "markdown",
   "id": "0301b7c4-a9ce-4a8d-ac25-37e5f93c7a1a",
   "metadata": {},
   "source": [
    "Сргуппируем по странам и подсчитаем из каких стран совершалось наибольшее число успешных бронирований.  \n",
    "Бронирование считается успешным, если в дальнейшем оно не было отменено (переменная is_canceled = 0).  \n",
    "Из нижеприведенного следует, что страны, входящие в топ-5: Португалия, Великобритания, Франция, Испания и Германия."
   ]
  },
  {
   "cell_type": "code",
   "execution_count": 21,
   "id": "7c51af81-6264-43f6-8b66-25d7c206b603",
   "metadata": {},
   "outputs": [
    {
     "data": {
      "text/plain": [
       "country\n",
       "PRT    21071\n",
       "GBR     9676\n",
       "FRA     8481\n",
       "ESP     6391\n",
       "DEU     6069\n",
       "       ...  \n",
       "SMR        1\n",
       "MLI        1\n",
       "SLE        1\n",
       "MAC        1\n",
       "PLW        1\n",
       "Length: 165, dtype: int64"
      ]
     },
     "execution_count": 21,
     "metadata": {},
     "output_type": "execute_result"
    }
   ],
   "source": [
    "bookings.query('is_canceled == 0')  \\\n",
    ".value_counts('country')            \n",
    "                                     # в данном случае результат подсчета отобразится отсортированным"
   ]
  },
  {
   "cell_type": "markdown",
   "id": "1c5a0777-fa75-4136-93a5-c137bea5a5d2",
   "metadata": {},
   "source": [
    "Выясним, на сколько ночей в среднем бронируют отели как типа City Hotel, так и Resort Hotel."
   ]
  },
  {
   "cell_type": "code",
   "execution_count": 7,
   "id": "ca04831f-287b-4055-bfd5-840df5137579",
   "metadata": {},
   "outputs": [
    {
     "data": {
      "text/plain": [
       "hotel\n",
       "City Hotel      2.98\n",
       "Resort Hotel    4.32\n",
       "Name: stays_total_nights, dtype: float64"
      ]
     },
     "execution_count": 7,
     "metadata": {},
     "output_type": "execute_result"
    }
   ],
   "source": [
    "  # Сруппируем датафрейм по типу отеля\n",
    "  # рассчитаем среднее количество ночей (stays_total_nights) для каждого из двух типов отелей\n",
    "\n",
    "bookings.groupby('hotel')['stays_total_nights'].mean().round(2)    # округлим"
   ]
  },
  {
   "cell_type": "markdown",
   "id": "1c3fa36e-a370-461a-933f-23596a92276a",
   "metadata": {},
   "source": [
    "Выясним, сколько раз происходил овербукинг.  \n",
    "В данном примере овербукинг, это изменения типа номера, полученного клиентом, от изначально забронированного."
   ]
  },
  {
   "cell_type": "code",
   "execution_count": 8,
   "id": "5d8c9cd7-50dd-4d60-8ea5-5a627ceec6bb",
   "metadata": {},
   "outputs": [
    {
     "data": {
      "text/plain": [
       "14917"
      ]
     },
     "execution_count": 8,
     "metadata": {},
     "output_type": "execute_result"
    }
   ],
   "source": [
    "  # Количество строк в датафрейме\n",
    "len(bookings)\n",
    "len(bookings.query('reserved_room_type != assigned_room_type'))"
   ]
  },
  {
   "cell_type": "markdown",
   "id": "8e5f3759-92ef-47f4-bc82-a65082b1a3ea",
   "metadata": {},
   "source": [
    "Выясним, в каком месяце полного календарного года (это 2016 г.) было наибольшее количество бронирований."
   ]
  },
  {
   "cell_type": "code",
   "execution_count": 9,
   "id": "565b600a-4fb8-4a2c-aa74-46ace6045a79",
   "metadata": {},
   "outputs": [
    {
     "data": {
      "text/plain": [
       "arrival_date_year  arrival_date_month\n",
       "2015               September             5114\n",
       "                   October               4957\n",
       "                   August                3889\n",
       "                   December              2920\n",
       "                   July                  2776\n",
       "                   November              2340\n",
       "2016               October               6203\n",
       "                   May                   5478\n",
       "                   April                 5428\n",
       "                   September             5394\n",
       "                   June                  5292\n",
       "                   August                5063\n",
       "                   March                 4824\n",
       "                   July                  4572\n",
       "                   November              4454\n",
       "                   February              3891\n",
       "                   December              3860\n",
       "                   January               2248\n",
       "2017               May                   6313\n",
       "                   April                 5661\n",
       "                   June                  5647\n",
       "                   July                  5313\n",
       "                   March                 4970\n",
       "                   August                4925\n",
       "                   February              4177\n",
       "                   January               3681\n",
       "Name: arrival_date_month, dtype: int64"
      ]
     },
     "execution_count": 9,
     "metadata": {},
     "output_type": "execute_result"
    }
   ],
   "source": [
    "  # Подсчитаем число бронирований в каждом месяце (arrival_date_month) каждого года (arrival_date_year)\n",
    "\n",
    "bookings.groupby('arrival_date_year')['arrival_date_month'].value_counts()"
   ]
  },
  {
   "cell_type": "markdown",
   "id": "1e7c36cc-d67c-4782-aa55-4ed3f924c55b",
   "metadata": {},
   "source": [
    "Так, в 2016 чаще всего бронировали отель на октябрь, а в 2017 - на май."
   ]
  },
  {
   "cell_type": "markdown",
   "id": "b4128f9a-f885-4952-9ec3-a3c17121fb91",
   "metadata": {},
   "source": [
    "Узнаем, на какой месяц (arrival_date_month) бронирования отеля типа City Hotel отменялись чаще всего в 2015, 2016, 2017."
   ]
  },
  {
   "cell_type": "code",
   "execution_count": 10,
   "id": "38cd4c91-2ce7-4395-8d47-d57c44d520f9",
   "metadata": {},
   "outputs": [
    {
     "data": {
      "text/plain": [
       "arrival_date_year  arrival_date_month\n",
       "2017               May                   2217\n",
       "2016               October               1947\n",
       "2017               April                 1926\n",
       "                   June                  1808\n",
       "2016               June                  1720\n",
       "                   September             1567\n",
       "2015               September             1543\n",
       "Name: is_canceled, dtype: int64"
      ]
     },
     "execution_count": 10,
     "metadata": {},
     "output_type": "execute_result"
    }
   ],
   "source": [
    "  # В колонке hotel отберем только нужный тип отеля, сгруппируем по году и по месяцу колонку is_canceled,\n",
    "  # в ней подсчитаем сумму отмен (is_canceled=1)\n",
    "\n",
    "bookings.query('hotel == \"City Hotel\"'). \\\n",
    "groupby(['arrival_date_year', 'arrival_date_month'])['is_canceled'] \\\n",
    ".sum().nlargest(7)                                              # nlargest(n, columns) возвращает n макс. значений в указанной колонке"
   ]
  },
  {
   "cell_type": "markdown",
   "id": "75926a19-9713-4f98-bdfb-02864cd9ea8b",
   "metadata": {},
   "source": [
    "Рассчитаем среднее значение для трех колонок adults, children, babies"
   ]
  },
  {
   "cell_type": "code",
   "execution_count": 22,
   "id": "3e0dde67-6ed7-4be6-b739-d88a6fac0fd8",
   "metadata": {},
   "outputs": [
    {
     "data": {
      "text/plain": [
       "adults      1.856403\n",
       "children    0.103890\n",
       "babies      0.007949\n",
       "dtype: float64"
      ]
     },
     "execution_count": 22,
     "metadata": {},
     "output_type": "execute_result"
    }
   ],
   "source": [
    "bookings[['adults', 'children', 'babies']].mean()\n"
   ]
  },
  {
   "cell_type": "markdown",
   "id": "e2fd2d32-4fb1-45b4-bd13-d4652b725a3d",
   "metadata": {},
   "source": [
    "Из трех колонок наибольшее среднее значение у adults. Следовательно, 2 взрослых - наиболее популярный тип размещения.  \n",
    "Это следует учитывать отелям при планировании организации размещения."
   ]
  },
  {
   "cell_type": "code",
   "execution_count": 12,
   "id": "c3c6dd0a-478c-4fdc-a8f4-3c6c0573339c",
   "metadata": {},
   "outputs": [
    {
     "data": {
      "text/plain": [
       "hotel\n",
       "City Hotel      0.10\n",
       "Resort Hotel    0.14\n",
       "Name: total_kids, dtype: float64"
      ]
     },
     "execution_count": 12,
     "metadata": {},
     "output_type": "execute_result"
    }
   ],
   "source": [
    "  # Создадим новую колонку total_kids и посчитаем среднее количество всех детей в зависимости от типа отеля\n",
    "\n",
    "bookings['total_kids'] = bookings['children'] + bookings['babies']\n",
    "bookings.groupby('hotel')['total_kids'].mean().round(2)"
   ]
  },
  {
   "cell_type": "code",
   "execution_count": 13,
   "id": "3339c963-9b1a-4fc9-998c-b6e5640406a9",
   "metadata": {},
   "outputs": [
    {
     "data": {
      "text/html": [
       "<div>\n",
       "<style scoped>\n",
       "    .dataframe tbody tr th:only-of-type {\n",
       "        vertical-align: middle;\n",
       "    }\n",
       "\n",
       "    .dataframe tbody tr th {\n",
       "        vertical-align: top;\n",
       "    }\n",
       "\n",
       "    .dataframe thead th {\n",
       "        text-align: right;\n",
       "    }\n",
       "</style>\n",
       "<table border=\"1\" class=\"dataframe\">\n",
       "  <thead>\n",
       "    <tr style=\"text-align: right;\">\n",
       "      <th></th>\n",
       "      <th>children</th>\n",
       "      <th>babies</th>\n",
       "      <th>total_kids</th>\n",
       "    </tr>\n",
       "  </thead>\n",
       "  <tbody>\n",
       "    <tr>\n",
       "      <th>0</th>\n",
       "      <td>0.0</td>\n",
       "      <td>0</td>\n",
       "      <td>0.0</td>\n",
       "    </tr>\n",
       "    <tr>\n",
       "      <th>1</th>\n",
       "      <td>0.0</td>\n",
       "      <td>0</td>\n",
       "      <td>0.0</td>\n",
       "    </tr>\n",
       "    <tr>\n",
       "      <th>2</th>\n",
       "      <td>0.0</td>\n",
       "      <td>0</td>\n",
       "      <td>0.0</td>\n",
       "    </tr>\n",
       "    <tr>\n",
       "      <th>3</th>\n",
       "      <td>0.0</td>\n",
       "      <td>0</td>\n",
       "      <td>0.0</td>\n",
       "    </tr>\n",
       "    <tr>\n",
       "      <th>4</th>\n",
       "      <td>0.0</td>\n",
       "      <td>0</td>\n",
       "      <td>0.0</td>\n",
       "    </tr>\n",
       "  </tbody>\n",
       "</table>\n",
       "</div>"
      ],
      "text/plain": [
       "   children  babies  total_kids\n",
       "0       0.0       0         0.0\n",
       "1       0.0       0         0.0\n",
       "2       0.0       0         0.0\n",
       "3       0.0       0         0.0\n",
       "4       0.0       0         0.0"
      ]
     },
     "execution_count": 13,
     "metadata": {},
     "output_type": "execute_result"
    }
   ],
   "source": [
    "bookings[['children', 'babies', 'total_kids']].head()"
   ]
  },
  {
   "cell_type": "markdown",
   "id": "cc5625d0-1351-401c-a1af-876b9c11f1a4",
   "metadata": {},
   "source": [
    "  "
   ]
  },
  {
   "cell_type": "markdown",
   "id": "b2b49ceb-cc37-4104-bfb9-c4e2a4597397",
   "metadata": {},
   "source": [
    "#### Расчет коэффициента оттока (Churn_rate)  \n",
    "Коэффициент оттока - отношение количества отмененных бронирований к общему количеству бронирований.  \n",
    "Позволяет оценить, сколько клиентов было потеряно."
   ]
  },
  {
   "cell_type": "code",
   "execution_count": 24,
   "id": "dcffedd8-4e47-42ed-ab10-ac2e2c34e8d4",
   "metadata": {},
   "outputs": [
    {
     "data": {
      "text/plain": [
       "is_canceled\n",
       "0    62.958372\n",
       "1    37.041628\n",
       "dtype: float64"
      ]
     },
     "execution_count": 24,
     "metadata": {},
     "output_type": "execute_result"
    }
   ],
   "source": [
    "  # Вычислим относительную частоту значений is_canceled, равных 1, при помощи аргумента normalize\n",
    "  # Сохраним в новую переменную Churn_rate, выраженную в %\n",
    "\n",
    "Churn_rate = bookings.value_counts('is_canceled', normalize=True) * 100\n",
    "Churn_rate"
   ]
  },
  {
   "cell_type": "markdown",
   "id": "32d11790-b164-4dee-9190-a04f81a7e1b9",
   "metadata": {},
   "source": [
    "Таким образом, общий процент отмен довольно значителен - 37%!"
   ]
  },
  {
   "cell_type": "markdown",
   "id": "52ad292b-aec9-4280-8f9c-13b827c8dcc1",
   "metadata": {},
   "source": [
    "Посмотрим, связана ли метрика Churn_rate с наличием детей у клиентов."
   ]
  },
  {
   "cell_type": "code",
   "execution_count": 15,
   "id": "5030619a-557c-4ce2-9b96-e4b76868e3eb",
   "metadata": {},
   "outputs": [
    {
     "data": {
      "text/html": [
       "<div>\n",
       "<style scoped>\n",
       "    .dataframe tbody tr th:only-of-type {\n",
       "        vertical-align: middle;\n",
       "    }\n",
       "\n",
       "    .dataframe tbody tr th {\n",
       "        vertical-align: top;\n",
       "    }\n",
       "\n",
       "    .dataframe thead th {\n",
       "        text-align: right;\n",
       "    }\n",
       "</style>\n",
       "<table border=\"1\" class=\"dataframe\">\n",
       "  <thead>\n",
       "    <tr style=\"text-align: right;\">\n",
       "      <th></th>\n",
       "      <th>total_kids</th>\n",
       "      <th>has_kids</th>\n",
       "    </tr>\n",
       "  </thead>\n",
       "  <tbody>\n",
       "    <tr>\n",
       "      <th>0</th>\n",
       "      <td>0.0</td>\n",
       "      <td>False</td>\n",
       "    </tr>\n",
       "    <tr>\n",
       "      <th>1</th>\n",
       "      <td>0.0</td>\n",
       "      <td>False</td>\n",
       "    </tr>\n",
       "    <tr>\n",
       "      <th>2</th>\n",
       "      <td>0.0</td>\n",
       "      <td>False</td>\n",
       "    </tr>\n",
       "    <tr>\n",
       "      <th>3</th>\n",
       "      <td>0.0</td>\n",
       "      <td>False</td>\n",
       "    </tr>\n",
       "    <tr>\n",
       "      <th>4</th>\n",
       "      <td>0.0</td>\n",
       "      <td>False</td>\n",
       "    </tr>\n",
       "  </tbody>\n",
       "</table>\n",
       "</div>"
      ],
      "text/plain": [
       "   total_kids  has_kids\n",
       "0         0.0     False\n",
       "1         0.0     False\n",
       "2         0.0     False\n",
       "3         0.0     False\n",
       "4         0.0     False"
      ]
     },
     "execution_count": 15,
     "metadata": {},
     "output_type": "execute_result"
    }
   ],
   "source": [
    "  # Создадим колонку has_kids, которая принимает значение True, если клиент при бронировании указал\n",
    "  # хотя бы одного ребенка (total_kids), в противном случае – False\n",
    "\n",
    "  # 1 вариант\n",
    "\n",
    "bookings['has_kids'] = bookings['total_kids'] >= 1\n",
    "bookings[['total_kids', 'has_kids']].head()"
   ]
  },
  {
   "cell_type": "raw",
   "id": "8987ee49-4068-48b0-996c-2897ed7a9a78",
   "metadata": {},
   "source": [
    "  # 2 вариант\n",
    "\n",
    "def has_kids(x):\n",
    "    if x >= 1:\n",
    "        return True\n",
    "    else:\n",
    "        return False\n",
    "\n",
    "bookings['has_kids'] = bookings['total_kids'].apply(has_kids)\n",
    "# метод apply() применяет функцию к осям (строкам или колонкам)"
   ]
  },
  {
   "cell_type": "code",
   "execution_count": 18,
   "id": "fdca7901-b796-4f8c-a5ce-f28495cccc41",
   "metadata": {},
   "outputs": [
    {
     "data": {
      "text/plain": [
       "has_kids  is_canceled\n",
       "False     0              62.778717\n",
       "          1              37.221283\n",
       "True      0              65.077154\n",
       "          1              34.922846\n",
       "Name: is_canceled, dtype: float64"
      ]
     },
     "execution_count": 18,
     "metadata": {},
     "output_type": "execute_result"
    }
   ],
   "source": [
    "  #  Проверим, среди какой группы по наличию детей показатель оттока выше\n",
    "  # value_counts(normalize=True) - относительная частота\n",
    "\n",
    "bookings.groupby('has_kids')['is_canceled'].value_counts(normalize=True) * 100"
   ]
  },
  {
   "cell_type": "markdown",
   "id": "e0b3bef1-f927-4383-9ae8-7c043eaf3533",
   "metadata": {},
   "source": [
    "Рассчитанный показатель оттока для группы, не указавших детей при бронировании, составляет 37,22%.  \n",
    "В то время как для группы с детьми этот же показатель равен 34,92%.  \n",
    "Как видно, показатель оттока Churn_rate несколько преобладает у группы, не указавших детей при бронировании."
   ]
  },
  {
   "cell_type": "markdown",
   "id": "dc76fca2-8a54-458f-a606-5233c5912b4a",
   "metadata": {},
   "source": [
    "Однако, в целом две эти характеристики сопоставимы с общим коэффициентом отмен бронирования, равным 37,04%, что говорит о незначительном влиянии факта наличия детей у заказчиков на показатель Churn_rate."
   ]
  },
  {
   "cell_type": "code",
   "execution_count": null,
   "id": "1d50c8cc-f4e0-4cfa-95e1-c369882fb7ba",
   "metadata": {},
   "outputs": [],
   "source": []
  }
 ],
 "metadata": {
  "kernelspec": {
   "display_name": "Python 3 (ipykernel)",
   "language": "python",
   "name": "python3"
  },
  "language_info": {
   "codemirror_mode": {
    "name": "ipython",
    "version": 3
   },
   "file_extension": ".py",
   "mimetype": "text/x-python",
   "name": "python",
   "nbconvert_exporter": "python",
   "pygments_lexer": "ipython3",
   "version": "3.10.5"
  }
 },
 "nbformat": 4,
 "nbformat_minor": 5
}
